{
 "cells": [
  {
   "cell_type": "code",
   "execution_count": null,
   "id": "89d8d579-0776-4633-9a2a-1974d8d20254",
   "metadata": {},
   "outputs": [],
   "source": [
    "import pymc as pm\n",
    "import pandas as pd\n",
    "import arviz as az\n",
    "\n",
    "import matplotlib.pyplot as plt\n",
    "import seaborn as sns\n",
    "\n",
    "import warnings\n",
    "warnings.filterwarnings(\"ignore\", category=FutureWarning)"
   ]
  },
  {
   "cell_type": "code",
   "execution_count": null,
   "id": "b0d711be-3c0d-410c-9271-fac467602109",
   "metadata": {},
   "outputs": [],
   "source": [
    "def plot_kde(sample, **options):\n",
    "    \"\"\"Plot a distribution using KDE.\n",
    "    \n",
    "    sample: sequence of values\n",
    "    \"\"\"\n",
    "    sns.kdeplot(sample, cut=0, **options)\n",
    "    \n",
    "def legend(**options):\n",
    "    \"\"\"Make a legend only if there are labels.\"\"\"\n",
    "    handles, labels = plt.gca().get_legend_handles_labels()\n",
    "    if len(labels):\n",
    "        plt.legend(**options)\n",
    "    \n",
    "def decorate_proportion(ylabel='Likelihood'):\n",
    "    \"\"\"Decorate the axes.\"\"\"\n",
    "    plt.xlabel('Proportion of deaths (x)')\n",
    "    plt.ylabel(ylabel)\n",
    "    plt.title('Distribution of proportion')\n",
    "    legend()\n",
    "    \n",
    "def plot_hist(sample, **options):\n",
    "    \"\"\"Plot a histogram of goals.\n",
    "    \n",
    "    sample: sequence of values\n",
    "    \"\"\"\n",
    "    sns.histplot(sample, stat='probability', discrete=True,\n",
    "                 alpha=0.5, **options)\n",
    "    \n",
    "def decorate_heads(ylabel='Probability'):\n",
    "    \"\"\"Decorate the axes.\"\"\"\n",
    "    plt.xlabel('Number of deaths (k)')\n",
    "    plt.ylabel(ylabel)\n",
    "    plt.title('Distribution of deaths')\n",
    "    legend()"
   ]
  },
  {
   "cell_type": "code",
   "execution_count": null,
   "id": "f9344257-b985-4d91-84f3-296f28994c3b",
   "metadata": {},
   "outputs": [],
   "source": [
    "df = pd.read_csv('Data/apache_sofa_treatment_63.csv', index_col=0)\n",
    "df.columns"
   ]
  },
  {
   "cell_type": "code",
   "execution_count": null,
   "id": "b38c2325-f4e1-4179-878f-278130ab2814",
   "metadata": {},
   "outputs": [],
   "source": [
    "df_1y = df[df['1-year']==1]\n",
    "df_3y = df[df['3-year']==1]"
   ]
  },
  {
   "cell_type": "code",
   "execution_count": null,
   "id": "97be6004-a483-4198-b774-ff5b5b4ef9b2",
   "metadata": {},
   "outputs": [],
   "source": [
    "n = df.shape[0]\n",
    "with pm.Model() as model1:\n",
    "    x1 = pm.Beta('x1', alpha=2, beta=2)\n",
    "    x2 = pm.Beta('x2', alpha=2, beta=2)\n",
    "    k1 = pm.Binomial('k1', n=n, p=x1, observed=df_1y.shape[0])\n",
    "    k2 = pm.Binomial('k2', n=n, p=x2, observed=df_3y.shape[0])   "
   ]
  },
  {
   "cell_type": "code",
   "execution_count": null,
   "id": "11fb57d7-a5f4-4b6a-b334-20417587cf77",
   "metadata": {},
   "outputs": [],
   "source": [
    "pm.model_to_graphviz(model1)"
   ]
  },
  {
   "cell_type": "code",
   "execution_count": null,
   "id": "b377a677-1915-4003-9737-d28c89e817e1",
   "metadata": {},
   "outputs": [],
   "source": [
    "with model1:\n",
    "    idata1 = pm.sample(1000)"
   ]
  },
  {
   "cell_type": "code",
   "execution_count": null,
   "id": "dd27773a-8e0d-4a3e-a6ed-2f5eb322e86b",
   "metadata": {},
   "outputs": [],
   "source": [
    "with model1:\n",
    "    az.plot_posterior(idata1)"
   ]
  },
  {
   "cell_type": "code",
   "execution_count": null,
   "id": "e8b4d6cf-159d-43f9-ba51-5de614e58512",
   "metadata": {},
   "outputs": [],
   "source": [
    "with pm.Model() as model2:\n",
    "    alpha = pm.Gamma('alpha', alpha=4, beta=0.5)\n",
    "    beta = pm.Gamma('beta', alpha=4, beta=0.5)\n",
    "    x1 = pm.Beta('x1', alpha, beta)\n",
    "    x2 = pm.Beta('x2', alpha, beta)\n",
    "    k1 = pm.Binomial('k1', n=n, p=x1, observed=df_1y.shape[0])\n",
    "    k2 = pm.Binomial('k2', n=n, p=x2, observed=df_3y.shape[0])   "
   ]
  },
  {
   "cell_type": "code",
   "execution_count": null,
   "id": "ef254f06-aebd-4c38-9706-c0604465d14f",
   "metadata": {},
   "outputs": [],
   "source": [
    "pm.model_to_graphviz(model2)"
   ]
  },
  {
   "cell_type": "code",
   "execution_count": null,
   "id": "9bd7646f-e734-41f2-a33f-3ba59a288f5b",
   "metadata": {},
   "outputs": [],
   "source": [
    "with model2:\n",
    "    idata2 = pm.sample_prior_predictive(500)"
   ]
  },
  {
   "cell_type": "code",
   "execution_count": null,
   "id": "77a1f83c-9dcc-4a88-854a-1d0349300a56",
   "metadata": {},
   "outputs": [],
   "source": [
    "idata2"
   ]
  },
  {
   "cell_type": "code",
   "execution_count": null,
   "id": "73f068a7-d828-483e-92ad-8e90bc6317e9",
   "metadata": {},
   "outputs": [],
   "source": [
    "plot_kde(idata2.prior['alpha'][0], label='alpha')\n",
    "plot_kde(idata2.prior['beta'][0], label='beta')\n",
    "plt.xlabel('Hyperparameter')\n",
    "plt.ylabel('Likelihood')\n",
    "plt.title('Distribution of hyperparameters')\n",
    "plt.legend();"
   ]
  },
  {
   "cell_type": "code",
   "execution_count": null,
   "id": "e847deb9-ac3c-4705-9d92-ff410b90f904",
   "metadata": {},
   "outputs": [],
   "source": [
    "sample_prior_x1 = idata2.prior['x1']\n",
    "sample_prior_x2 = idata2.prior['x2']\n",
    "sample_prior_x1.values.mean(), sample_prior_x2.values.mean()"
   ]
  },
  {
   "cell_type": "code",
   "execution_count": null,
   "id": "f1bc67f4-d361-42ad-9d7f-4272c0daa3da",
   "metadata": {},
   "outputs": [],
   "source": [
    "plot_kde(sample_prior_x1.values[0], color='orange', label='prior x1')\n",
    "plot_kde(sample_prior_x2.values[0], color='blue', label='prior x2')\n",
    "decorate_proportion()"
   ]
  },
  {
   "cell_type": "code",
   "execution_count": null,
   "id": "76004cce-d50e-4d6a-9a61-cedc19e95c0f",
   "metadata": {},
   "outputs": [],
   "source": [
    "sample_prior_pred_k1 = idata2.prior_predictive['k1']\n",
    "sample_prior_pred_k2 = idata2.prior_predictive['k2']\n",
    "sample_prior_pred_k1.values.mean(), sample_prior_pred_k2.values.mean()"
   ]
  },
  {
   "cell_type": "code",
   "execution_count": null,
   "id": "9c0a4d27-4ca8-46d3-9668-761c6c542f99",
   "metadata": {},
   "outputs": [],
   "source": [
    "plot_hist(sample_prior_pred_k1[0], label='k1')\n",
    "decorate_heads()"
   ]
  },
  {
   "cell_type": "code",
   "execution_count": null,
   "id": "fd09705a-2619-46ba-b67d-ff58c7b92d38",
   "metadata": {},
   "outputs": [],
   "source": [
    "with model2:\n",
    "    idata2 = pm.sample(1000)"
   ]
  },
  {
   "cell_type": "code",
   "execution_count": null,
   "id": "aa7de9f2-d0e8-4882-ae46-0fd0a6d035f6",
   "metadata": {},
   "outputs": [],
   "source": [
    "with model2:\n",
    "    az.plot_trace(idata2)"
   ]
  },
  {
   "cell_type": "code",
   "execution_count": null,
   "id": "b740ade3-beae-42bb-a972-b6b64364956f",
   "metadata": {},
   "outputs": [],
   "source": [
    "with model2:\n",
    "    az.plot_posterior(idata2, var_names=['x1', 'x2'])"
   ]
  },
  {
   "cell_type": "code",
   "execution_count": null,
   "id": "970031a2-51ff-45b1-82d8-9d5451f2f000",
   "metadata": {},
   "outputs": [],
   "source": [
    "with model2:\n",
    "    az.plot_posterior(idata2, var_names=['alpha', 'beta'])"
   ]
  },
  {
   "cell_type": "code",
   "execution_count": null,
   "id": "4aa090c0-6186-41de-af5b-96a8b15af6dc",
   "metadata": {
    "tags": []
   },
   "outputs": [],
   "source": [
    "idata2.posterior['alpha'][0].values"
   ]
  },
  {
   "cell_type": "code",
   "execution_count": null,
   "id": "c1e2ae22-e119-4c08-92f0-29bc8c6b6227",
   "metadata": {},
   "outputs": [],
   "source": [
    "alphas = idata2.posterior['alpha'][0].values\n",
    "betas = idata2.posterior['beta'][0].values\n",
    "\n",
    "sample_posterior_x = pm.Beta.dist(alphas, betas)\n",
    "sample_posterior_x = pm.draw(sample_posterior_x, 1000)\n",
    "sample_posterior_x.mean()"
   ]
  },
  {
   "cell_type": "code",
   "execution_count": null,
   "id": "fb6e37d0-84c6-41a8-9bd3-63c65d59579f",
   "metadata": {},
   "outputs": [],
   "source": [
    "plot_kde(sample_prior_x1.values[0], color='gray', label='prior')\n",
    "plot_kde(sample_posterior_x[0], label='posterior')\n",
    "decorate_proportion()"
   ]
  },
  {
   "cell_type": "code",
   "execution_count": null,
   "id": "c18f1baa-079d-42a4-9ff8-1695275eb462",
   "metadata": {},
   "outputs": [],
   "source": [
    "df"
   ]
  },
  {
   "cell_type": "code",
   "execution_count": null,
   "id": "3e56a159-564f-4c39-b918-3690ed4979c4",
   "metadata": {},
   "outputs": [],
   "source": [
    "df = pd.read_csv('Data/apache_sofa_all.csv')"
   ]
  },
  {
   "cell_type": "code",
   "execution_count": null,
   "id": "94e4c9db-a5b4-434e-b931-d27ac1d7ceba",
   "metadata": {},
   "outputs": [],
   "source": [
    "import numpy as np"
   ]
  },
  {
   "cell_type": "code",
   "execution_count": null,
   "id": "9ff30757-7a22-45c3-9c85-938fe45ebfcd",
   "metadata": {},
   "outputs": [],
   "source": [
    "df = df.groupby('Rozpoznania')[['30-day']].agg(['count', 'sum'])"
   ]
  },
  {
   "cell_type": "code",
   "execution_count": null,
   "id": "3c7925c1-a367-4446-a41e-11d9d433a062",
   "metadata": {},
   "outputs": [],
   "source": [
    "df.columns = df.columns.droplevel(0)\n",
    "df = df.reset_index()\n",
    "df = df.rename(columns={'Rozpoznania': 'Rozp',\n",
    "                        'count': 'Cases', \n",
    "                        'sum': 'Deaths'})\n",
    "df['Death %'] = df.apply(lambda x: np.round(x['Deaths']/x['Cases'], 4)*100, axis=1)"
   ]
  },
  {
   "cell_type": "code",
   "execution_count": null,
   "id": "37e54188-0ee8-4826-8979-c57b0d89c1f6",
   "metadata": {},
   "outputs": [],
   "source": [
    "df"
   ]
  },
  {
   "cell_type": "code",
   "execution_count": null,
   "id": "9da6928d-466f-49bf-be0f-13640d89080a",
   "metadata": {},
   "outputs": [],
   "source": [
    "data_ns = df['Cases'].values\n",
    "data_ks = df['Deaths'].values"
   ]
  },
  {
   "cell_type": "code",
   "execution_count": null,
   "id": "debba1c7-078d-4953-9135-2dc0bf2b98e0",
   "metadata": {},
   "outputs": [],
   "source": [
    "data_ns"
   ]
  },
  {
   "cell_type": "code",
   "execution_count": null,
   "id": "1f072238-8bc3-4088-82d3-69532e47b9ef",
   "metadata": {},
   "outputs": [],
   "source": [
    "data_ks"
   ]
  },
  {
   "cell_type": "code",
   "execution_count": null,
   "id": "4e7bc84b-c0c3-4d84-adbf-eabe1152b426",
   "metadata": {},
   "outputs": [],
   "source": [
    "with pm.Model() as model4:\n",
    "    alpha = pm.Gamma('alpha', alpha=4, beta=0.5)\n",
    "    beta = pm.Gamma('beta', alpha=4, beta=0.5)\n",
    "    xs = pm.Beta('xs', alpha, beta, shape=len(data_ns))\n",
    "    ks = pm.Binomial('ks', n=data_ns, p=xs, observed=data_ks)\n",
    "    idata4 = pm.sample(1000)"
   ]
  },
  {
   "cell_type": "code",
   "execution_count": null,
   "id": "f09e31e1-dc62-48ba-8890-531e9b8cbde2",
   "metadata": {},
   "outputs": [],
   "source": [
    "pm.model_to_graphviz(model4)"
   ]
  },
  {
   "cell_type": "code",
   "execution_count": null,
   "id": "5acec6bc-cf21-4322-9b30-7e34eb46b727",
   "metadata": {},
   "outputs": [],
   "source": [
    "with model4:\n",
    "    az.plot_trace(idata4)"
   ]
  },
  {
   "cell_type": "code",
   "execution_count": null,
   "id": "b3b100c1-e85d-4858-9b28-b8ceebb9bd78",
   "metadata": {},
   "outputs": [],
   "source": [
    "with model4:\n",
    "    az.plot_posterior(idata4, var_names=['xs'])"
   ]
  },
  {
   "cell_type": "code",
   "execution_count": null,
   "id": "36bf1e7a-9f53-442e-8b73-09fce86dedd7",
   "metadata": {},
   "outputs": [],
   "source": [
    "with model4:\n",
    "    az.plot_posterior(idata4, var_names=['alpha', 'beta'])"
   ]
  },
  {
   "cell_type": "code",
   "execution_count": null,
   "id": "1f8f63d6-6c50-4233-ae28-c60d3cbf7e8e",
   "metadata": {},
   "outputs": [],
   "source": [
    "alphas = idata4.posterior['alpha'][0].values\n",
    "betas = idata4.posterior['beta'][0].values\n",
    "\n",
    "sample_posterior_x = pm.Beta.dist(alphas, betas)\n",
    "sample_posterior_x = pm.draw(sample_posterior_x, 1000)\n",
    "sample_posterior_x.mean()"
   ]
  },
  {
   "cell_type": "code",
   "execution_count": null,
   "id": "06dd202d-a996-48f5-9720-6b1e088033a5",
   "metadata": {},
   "outputs": [],
   "source": [
    "with model4:\n",
    "    az.plot_posterior(sample_posterior_x)"
   ]
  },
  {
   "cell_type": "code",
   "execution_count": null,
   "id": "7295d762-ee1d-44b5-b006-8d90b88d5d64",
   "metadata": {},
   "outputs": [],
   "source": [
    "with pm.Model() as model5:\n",
    "    alpha = pm.Exponential('alpha', lam=1)\n",
    "    beta = pm.Exponential('beta', lam=1)\n",
    "    mu = pm.Gamma('mu', alpha, beta)\n",
    "    idata5 = pm.sample_prior_predictive(1000)"
   ]
  },
  {
   "cell_type": "code",
   "execution_count": null,
   "id": "31bee64d-6356-4165-9149-51e319dbe79f",
   "metadata": {},
   "outputs": [],
   "source": [
    "sample_prior_mu = idata5.prior['mu']\n",
    "sample_prior_mu.values.mean()"
   ]
  },
  {
   "cell_type": "code",
   "execution_count": null,
   "id": "6c59f191-1fc3-401e-833c-696cae44928a",
   "metadata": {},
   "outputs": [],
   "source": [
    "def decorate_rate(ylabel='Density'):\n",
    "    \"\"\"Decorate the axes.\"\"\"\n",
    "    plt.xlabel('Goals per game (mu)')\n",
    "    plt.ylabel(ylabel)\n",
    "    plt.title('Distribution of goal scoring rate')\n",
    "    legend()"
   ]
  },
  {
   "cell_type": "code",
   "execution_count": null,
   "id": "49d1d690-c808-4cb7-90ac-f1ea5380a7c5",
   "metadata": {},
   "outputs": [],
   "source": [
    "plot_kde(sample_prior_mu[0])\n",
    "decorate_rate()"
   ]
  },
  {
   "cell_type": "code",
   "execution_count": null,
   "id": "5e9ca652-e330-443c-9349-f5c7bc9158b7",
   "metadata": {},
   "outputs": [],
   "source": [
    "df = pd.read_csv('Data/apache_sofa_all.csv')"
   ]
  },
  {
   "cell_type": "code",
   "execution_count": null,
   "id": "2f740c38-9871-4796-8e83-c27d40c48f91",
   "metadata": {},
   "outputs": [],
   "source": [
    "df['APACHE_II'].to_list()[:5]"
   ]
  },
  {
   "cell_type": "code",
   "execution_count": null,
   "id": "9d235925-3aa1-4a22-9d07-116147aa9478",
   "metadata": {},
   "outputs": [],
   "source": [
    "with pm.Model() as model6:\n",
    "    alpha = pm.Exponential('alpha', lam=1)\n",
    "    beta = pm.Exponential('beta', lam=1)\n",
    "    mu = pm.Gamma('mu', alpha, beta)\n",
    "    goals = pm.Poisson('goals', mu, observed=[16])"
   ]
  },
  {
   "cell_type": "code",
   "execution_count": null,
   "id": "2037d5b6-cd71-4655-ba30-f7da9a165a25",
   "metadata": {},
   "outputs": [],
   "source": [
    "pm.model_to_graphviz(model6)"
   ]
  },
  {
   "cell_type": "code",
   "execution_count": null,
   "id": "e5b8f1e7-44a3-45cb-b2ce-74782ee5af07",
   "metadata": {},
   "outputs": [],
   "source": [
    "with model6:\n",
    "    idata6 = pm.sample(1000)"
   ]
  },
  {
   "cell_type": "code",
   "execution_count": null,
   "id": "94fce82f-d8c3-4d25-9e4d-356c6281ea01",
   "metadata": {},
   "outputs": [],
   "source": [
    "with model6:\n",
    "    az.plot_trace(idata6)"
   ]
  },
  {
   "cell_type": "code",
   "execution_count": null,
   "id": "b746fea5-054a-4f8b-9715-1807dcfe991a",
   "metadata": {},
   "outputs": [],
   "source": [
    "sample_post_mu = idata6.posterior['mu']\n",
    "sample_post_mu.values.mean()"
   ]
  },
  {
   "cell_type": "code",
   "execution_count": null,
   "id": "b721f0f2-971c-4d87-b52c-a6b0e4df01ee",
   "metadata": {},
   "outputs": [],
   "source": [
    "plot_kde(sample_post_mu[0], label='mu posterior')\n",
    "decorate_rate()"
   ]
  },
  {
   "cell_type": "code",
   "execution_count": null,
   "id": "d18e60c1-d601-4ea7-81be-b3ae792287dd",
   "metadata": {},
   "outputs": [],
   "source": [
    "df['Rozpoznania'].value_counts()"
   ]
  },
  {
   "cell_type": "code",
   "execution_count": null,
   "id": "c2bab2ec-8183-4845-bf1f-bc41d6a5b5cc",
   "metadata": {},
   "outputs": [],
   "source": [
    "df[df['Rozpoznania']=='CHF_niedokrwienna']['APACHE_II'].to_list()[:3]"
   ]
  },
  {
   "cell_type": "code",
   "execution_count": null,
   "id": "b54f3dde-f0d7-4602-8a22-3adfb0310311",
   "metadata": {},
   "outputs": [],
   "source": [
    "df[df['Rozpoznania']=='CHF_nieniedokrwienna']['APACHE_II'].to_list()[:3]"
   ]
  },
  {
   "cell_type": "code",
   "execution_count": null,
   "id": "ed514095-acd0-4023-9260-2d2c5da17dfc",
   "metadata": {},
   "outputs": [],
   "source": [
    "with pm.Model() as model7:\n",
    "    alpha = pm.Exponential('alpha', lam=1)\n",
    "    beta = pm.Exponential('beta', lam=1)\n",
    "    mu_A = pm.Gamma('mu_A', alpha, beta)\n",
    "    mu_B = pm.Gamma('mu_B', alpha, beta)\n",
    "    goals_A = pm.Poisson('goals_A', mu_A, observed=[9,25])\n",
    "    goals_B = pm.Poisson('goals_B', mu_B, observed=[16,11])\n",
    "    idata7 = pm.sample(1000)"
   ]
  },
  {
   "cell_type": "code",
   "execution_count": null,
   "id": "0e5e684f-4d72-4338-8525-5dd2f44ec246",
   "metadata": {},
   "outputs": [],
   "source": [
    "pm.model_to_graphviz(model7)"
   ]
  },
  {
   "cell_type": "code",
   "execution_count": null,
   "id": "b3e6c033-acf9-4884-82ce-6e3af3a4b3ae",
   "metadata": {},
   "outputs": [],
   "source": [
    "with model7:\n",
    "    az.plot_trace(idata7)"
   ]
  },
  {
   "cell_type": "code",
   "execution_count": null,
   "id": "49224f4e-f372-48f5-9421-19f7568073ef",
   "metadata": {},
   "outputs": [],
   "source": [
    "mu_A = idata7.posterior['mu_A']\n",
    "mu_B = idata7.posterior['mu_B']\n",
    "mu_B.values.mean(), mu_A.values.mean()"
   ]
  },
  {
   "cell_type": "code",
   "execution_count": null,
   "id": "353d15f4-0d4f-4088-a544-c8198a47e234",
   "metadata": {},
   "outputs": [],
   "source": [
    "plot_kde(mu_A[0], label='mu_A posterior')\n",
    "plot_kde(mu_B[0], label='mu_B posterior')\n",
    "decorate_rate('Density')"
   ]
  },
  {
   "cell_type": "code",
   "execution_count": null,
   "id": "09caeb02-9286-4684-908c-4a250884d29f",
   "metadata": {},
   "outputs": [],
   "source": [
    "(mu_A > mu_B).values.mean()"
   ]
  },
  {
   "cell_type": "code",
   "execution_count": null,
   "id": "e1110668-b80f-400b-bfe2-bff2da5a156d",
   "metadata": {},
   "outputs": [],
   "source": [
    "df['Rozpoznania'].value_counts()"
   ]
  },
  {
   "cell_type": "code",
   "execution_count": null,
   "id": "37b5d723-72f1-4e9e-846c-399f33215d12",
   "metadata": {},
   "outputs": [],
   "source": [
    "df[df['Rozpoznania']=='plyn_w_osierdziu ']"
   ]
  },
  {
   "cell_type": "code",
   "execution_count": null,
   "id": "33e992b6-5d63-4f4b-aafd-7f75d8181e3b",
   "metadata": {},
   "outputs": [],
   "source": [
    "data = dict(\n",
    "            NDKW = df[df['Rozpoznania']=='CHF_niedokrwienna']['APACHE_II'].to_list()[:10],\n",
    "            NNDKW = df[df['Rozpoznania']=='CHF_nieniedokrwienna']['APACHE_II'].to_list()[:10],\n",
    "            PWO = df[df['Rozpoznania']=='plyn_w_osierdziu ']['APACHE_II'].to_list()[:2],\n",
    "            NP = df[df['Rozpoznania']=='nadcisnienie_plucne']['APACHE_II'].to_list()[:2],\n",
    "            SEP = df[df['Rozpoznania']=='sepsa']['APACHE_II'].to_list()[:1],\n",
    ")"
   ]
  },
  {
   "cell_type": "code",
   "execution_count": null,
   "id": "e1697639-0864-4c2c-a46d-96d9674e519d",
   "metadata": {},
   "outputs": [],
   "source": [
    "with pm.Model() as model8:\n",
    "    alpha = pm.Exponential('alpha', lam=1)\n",
    "    beta = pm.Exponential('beta', lam=1)\n",
    "    \n",
    "    mu = dict()\n",
    "    goals = dict()\n",
    "    for name, observed in data.items():\n",
    "        mu[name] = pm.Gamma('mu_'+name, alpha, beta)\n",
    "        goals[name] = pm.Poisson(name, mu[name], observed=observed)\n",
    "        \n",
    "    idata8 = pm.sample(1000)"
   ]
  },
  {
   "cell_type": "code",
   "execution_count": null,
   "id": "4189a496-7d62-4cbf-9aef-11dab211a356",
   "metadata": {},
   "outputs": [],
   "source": [
    "viz = pm.model_to_graphviz(model8)\n",
    "viz"
   ]
  },
  {
   "cell_type": "code",
   "execution_count": null,
   "id": "17ef0072-a81f-4230-a414-ba1c8b7a1a5b",
   "metadata": {},
   "outputs": [],
   "source": [
    "with model8:\n",
    "    az.plot_trace(idata8, var_names=['alpha', 'beta'])"
   ]
  },
  {
   "cell_type": "code",
   "execution_count": null,
   "id": "477c8ad6-5fca-44a3-a547-df03635b9788",
   "metadata": {},
   "outputs": [],
   "source": [
    "sample_post_alpha = idata8.posterior['alpha']\n",
    "sample_post_alpha.values.mean()"
   ]
  },
  {
   "cell_type": "code",
   "execution_count": null,
   "id": "813603a2-23ab-4498-9593-327485c392f1",
   "metadata": {},
   "outputs": [],
   "source": [
    "sample_post_alpha = idata8.posterior['beta']\n",
    "sample_post_alpha.values.mean()"
   ]
  },
  {
   "cell_type": "code",
   "execution_count": null,
   "id": "efe8fb0f-43b4-488d-9d6c-26ef14ac6e0c",
   "metadata": {},
   "outputs": [],
   "source": [
    "sample_post_mu_NDKW = idata8.posterior['mu_NDKW']\n",
    "sample_post_mu_NNDKW = idata8.posterior['mu_NNDKW']\n",
    "sample_post_mu_PWO = idata8.posterior['mu_PWO']\n",
    "sample_post_mu_NP = idata8.posterior['mu_NP']\n",
    "sample_post_mu_SEP = idata8.posterior['mu_SEP']\n",
    "sample_post_mu_NDKW.values.mean(), sample_post_mu_NNDKW.values.mean(), sample_post_mu_PWO.values.mean(), sample_post_mu_NP.values.mean(), sample_post_mu_SEP.values.mean(), "
   ]
  },
  {
   "cell_type": "code",
   "execution_count": null,
   "id": "704e7be6-5c74-4096-8ca2-edbb76985d5b",
   "metadata": {},
   "outputs": [],
   "source": [
    "plot_kde(sample_post_mu_NDKW[0], label='NDKW')\n",
    "plot_kde(sample_post_mu_NNDKW[0], label='NNDKW')\n",
    "plot_kde(sample_post_mu_PWO[0], label='PWO')\n",
    "plot_kde(sample_post_mu_NP[0], label='NP')\n",
    "plot_kde(sample_post_mu_SEP[0], label='SEP')\n",
    "decorate_rate()"
   ]
  },
  {
   "cell_type": "code",
   "execution_count": null,
   "id": "76d4f8cd-79d6-4cdc-9707-58d001e5d80c",
   "metadata": {},
   "outputs": [],
   "source": [
    "(sample_post_mu_NDKW > sample_post_mu_PWO).values.mean()"
   ]
  },
  {
   "cell_type": "code",
   "execution_count": null,
   "id": "b1fd0182-cb1c-4f46-a9ba-1372621af50d",
   "metadata": {},
   "outputs": [],
   "source": []
  }
 ],
 "metadata": {
  "kernelspec": {
   "display_name": "Python 3 (ipykernel)",
   "language": "python",
   "name": "python3"
  },
  "language_info": {
   "codemirror_mode": {
    "name": "ipython",
    "version": 3
   },
   "file_extension": ".py",
   "mimetype": "text/x-python",
   "name": "python",
   "nbconvert_exporter": "python",
   "pygments_lexer": "ipython3",
   "version": "3.10.8"
  }
 },
 "nbformat": 4,
 "nbformat_minor": 5
}
