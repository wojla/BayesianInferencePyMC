{
 "cells": [
  {
   "cell_type": "code",
   "execution_count": null,
   "id": "d996dce7-a79e-4332-95ce-62aaace59ac3",
   "metadata": {},
   "outputs": [],
   "source": [
    "import pymc as pm\n",
    "import pandas as pd\n",
    "import arviz as az\n",
    "\n",
    "import matplotlib.pyplot as plt\n",
    "import seaborn as sns\n",
    "\n",
    "import warnings\n",
    "warnings.filterwarnings(\"ignore\", category=FutureWarning)"
   ]
  },
  {
   "cell_type": "code",
   "execution_count": null,
   "id": "07ac571f-032b-4dcc-b764-181fed6f9e2c",
   "metadata": {},
   "outputs": [],
   "source": [
    "def plot_hist(sample, **options):\n",
    "    \"\"\"Plot a histogram of APACHE_II.\n",
    "    \n",
    "    sample: sequence of values\n",
    "    \"\"\"\n",
    "    sns.histplot(sample, stat='probability', discrete=True,\n",
    "                 alpha=0.5, **options)\n",
    "    \n",
    "def legend(**options):\n",
    "    \"\"\"Make a legend only if there are labels.\"\"\"\n",
    "    handles, labels = plt.gca().get_legend_handles_labels()\n",
    "    if len(labels):\n",
    "        plt.legend(**options)\n",
    "        \n",
    "def decorate_goals(ylabel='Probability'):\n",
    "    \"\"\"Decorate the axes.\"\"\"\n",
    "    plt.xlabel('APACHE II socre')\n",
    "    plt.ylabel(ylabel)\n",
    "    plt.title('Distribution of APACHE II')\n",
    "    legend()\n",
    "    \n",
    "def plot_kde(sample, **options):\n",
    "    \"\"\"Plot a distribution using KDE.\n",
    "    \n",
    "    sample: sequence of values\n",
    "    \"\"\"\n",
    "    sns.kdeplot(sample, cut=0, **options)\n",
    "\n",
    "def decorate_rate(ylabel='Likelihood'):\n",
    "    \"\"\"Decorate the axes.\"\"\"\n",
    "    plt.xlabel('Apache per patient')\n",
    "    plt.ylabel(ylabel)\n",
    "    plt.title('Distribution of APACHE scoring rate')\n",
    "    legend()"
   ]
  },
  {
   "cell_type": "code",
   "execution_count": null,
   "id": "b0e43810-3be1-4103-992d-3e97196b6e6f",
   "metadata": {},
   "outputs": [],
   "source": [
    "df = pd.read_csv('Data/apache_sofa_treatment_63.csv', index_col=0)"
   ]
  },
  {
   "cell_type": "code",
   "execution_count": null,
   "id": "f7e6f64a-6e9a-4b6a-b82f-f5da34400840",
   "metadata": {},
   "outputs": [],
   "source": [
    "sample_poisson = df['APACHE_II']\n",
    "observed_ndokrw = df[df['Rozpoznania']=='CHF_nieniedokrwienna']['APACHE_II']\n",
    "observed_dokrw = df[df['Rozpoznania']=='CHF_niedokrwienna']['APACHE_II']\n",
    "print(sample_poisson.mean().round(2))"
   ]
  },
  {
   "cell_type": "code",
   "execution_count": null,
   "id": "75aa3f12-71b0-41a5-a3ff-811e532ec7d6",
   "metadata": {},
   "outputs": [],
   "source": [
    "α = 30\n",
    "β = 1.8"
   ]
  },
  {
   "cell_type": "code",
   "execution_count": null,
   "id": "bf3def5c-a701-4a93-82b3-3f74fe16c607",
   "metadata": {},
   "outputs": [],
   "source": [
    "with pm.Model() as model1:\n",
    "    μ = pm.Gamma('μ', α, β)\n",
    "    apache = pm.Poisson('apache', μ, observed=10)\n",
    "    idata1 = pm.sample(1000)"
   ]
  },
  {
   "cell_type": "code",
   "execution_count": null,
   "id": "39519ff9-cc39-446d-a135-33afa99cf28e",
   "metadata": {},
   "outputs": [],
   "source": [
    "sample_posterior = idata1.posterior['μ'][0]\n",
    "sample_posterior.values.mean().round(2)"
   ]
  },
  {
   "cell_type": "code",
   "execution_count": null,
   "id": "efdbc33b-324f-485e-a91e-7200cc7b4f09",
   "metadata": {},
   "outputs": [],
   "source": [
    "len(sample_posterior)"
   ]
  },
  {
   "cell_type": "code",
   "execution_count": null,
   "id": "f2e5a6e6-2890-4dd6-ba28-1a62e3ea2a78",
   "metadata": {},
   "outputs": [],
   "source": [
    "az.plot_posterior(sample_posterior)\n",
    "decorate_rate()"
   ]
  },
  {
   "cell_type": "code",
   "execution_count": null,
   "id": "4eedf66c-5af9-44f6-aa35-77e940b1e66a",
   "metadata": {},
   "outputs": [],
   "source": [
    "with model1:\n",
    "    post_pred = pm.sample_posterior_predictive(idata1)"
   ]
  },
  {
   "cell_type": "code",
   "execution_count": null,
   "id": "e97b81f5-9f21-4096-bb5d-79744f5177d9",
   "metadata": {},
   "outputs": [],
   "source": [
    "post_pred"
   ]
  },
  {
   "cell_type": "code",
   "execution_count": null,
   "id": "58ea817b-3c17-4ba9-ac4a-4a9dadc88705",
   "metadata": {},
   "outputs": [],
   "source": [
    "sample_post_pred = post_pred.posterior_predictive['apache']\n",
    "sample_post_pred.values.mean()"
   ]
  },
  {
   "cell_type": "code",
   "execution_count": null,
   "id": "fc7ee8a5-86ac-4bf9-b0e5-aa4ab4cf15e1",
   "metadata": {},
   "outputs": [],
   "source": [
    "plot_hist(sample_post_pred[0], label='posterior pred')\n",
    "decorate_goals()"
   ]
  },
  {
   "cell_type": "code",
   "execution_count": null,
   "id": "c0531423-1fd4-4f0d-8375-923febf3408c",
   "metadata": {},
   "outputs": [],
   "source": [
    "observed_ndokrw.values"
   ]
  },
  {
   "cell_type": "code",
   "execution_count": null,
   "id": "2ea30138-c9a1-49b1-8707-e37fed3ef8f1",
   "metadata": {},
   "outputs": [],
   "source": [
    "observed_dokrw.values"
   ]
  },
  {
   "cell_type": "code",
   "execution_count": null,
   "id": "653cc630-70ac-489a-97e5-a41f78dbef71",
   "metadata": {},
   "outputs": [],
   "source": [
    "with pm.Model() as model2:\n",
    "    μ_A = pm.Gamma('μ_A', α, β)\n",
    "    μ_B = pm.Gamma('μ_B', α, β)\n",
    "    apache_A = pm.Poisson('ndokrw_A', μ_A, observed=[7,14,1,9])\n",
    "    apache_B = pm.Poisson('dokrw_B', μ_B, observed=[12,9,10,18])\n",
    "    idata2 = pm.sample(1000)"
   ]
  },
  {
   "cell_type": "code",
   "execution_count": null,
   "id": "950eae28-08a9-432e-9403-245fed9ac7b7",
   "metadata": {},
   "outputs": [],
   "source": [
    "with model2:\n",
    "    az.plot_trace(idata2);"
   ]
  },
  {
   "cell_type": "code",
   "execution_count": null,
   "id": "a63e23b4-5fad-4c06-a7e2-f416ee820587",
   "metadata": {},
   "outputs": [],
   "source": [
    "mu_A = idata2.posterior['μ_A']\n",
    "mu_B = idata2.posterior['μ_B']\n",
    "mu_A.values.mean(), mu_B.values.mean()"
   ]
  },
  {
   "cell_type": "code",
   "execution_count": null,
   "id": "84b2a565-e8b5-4d1c-b5c7-7847255a1ff4",
   "metadata": {},
   "outputs": [],
   "source": [
    "plot_kde(mu_A[0], label='mu_A posterior')\n",
    "plot_kde(mu_B[0], label='mu_B posterior')\n",
    "decorate_rate('Density')"
   ]
  },
  {
   "cell_type": "code",
   "execution_count": null,
   "id": "1f04929a-251f-4a25-973a-6a5e1f68deae",
   "metadata": {},
   "outputs": [],
   "source": [
    "(mu_B.values > mu_A.values).mean()"
   ]
  },
  {
   "cell_type": "code",
   "execution_count": null,
   "id": "4a7f1235-56a4-4f36-a185-cc7c18c69ccf",
   "metadata": {},
   "outputs": [],
   "source": [
    "with model2:\n",
    "    post_pred = pm.sample_posterior_predictive(idata2)"
   ]
  },
  {
   "cell_type": "code",
   "execution_count": null,
   "id": "0d6fe0e4-c042-47f0-95c0-edb40666ca6e",
   "metadata": {},
   "outputs": [],
   "source": [
    "post_pred"
   ]
  },
  {
   "cell_type": "code",
   "execution_count": null,
   "id": "a15c69bd-1d15-4e64-8e63-0a90bd84c450",
   "metadata": {},
   "outputs": [],
   "source": [
    "apache_A = post_pred.posterior_predictive['ndokrw_A']\n",
    "apache_B = post_pred.posterior_predictive['dokrw_B']"
   ]
  },
  {
   "cell_type": "code",
   "execution_count": null,
   "id": "f3a55880-6c30-4d0f-82aa-07785951b10f",
   "metadata": {},
   "outputs": [],
   "source": [
    "apache_A[0].values.flatten()"
   ]
  },
  {
   "cell_type": "code",
   "execution_count": null,
   "id": "dad65a9b-39cb-4fd5-a694-0671d0e4f008",
   "metadata": {},
   "outputs": [],
   "source": [
    "len(apache_A[0])"
   ]
  },
  {
   "cell_type": "code",
   "execution_count": null,
   "id": "5489bc5a-703e-4f0f-94ea-e23a0f372ee0",
   "metadata": {},
   "outputs": [],
   "source": [
    "plot_hist(apache_A[0].values.flatten(), label='Ndorkw_A')\n",
    "plot_hist(apache_B[0].values.flatten(), color='C1', label='Dokrw_B')\n",
    "decorate_goals('PMF')"
   ]
  },
  {
   "cell_type": "code",
   "execution_count": null,
   "id": "2c1f8f60-c6c0-4057-9daa-510a87173292",
   "metadata": {},
   "outputs": [],
   "source": [
    "win = (apache_B.values > apache_A.values).mean()\n",
    "win"
   ]
  },
  {
   "cell_type": "code",
   "execution_count": null,
   "id": "474484d8-0bb7-4a85-9234-81ba6ea60913",
   "metadata": {},
   "outputs": [],
   "source": [
    "lose = (apache_A.values > apache_B.values).mean()\n",
    "lose"
   ]
  },
  {
   "cell_type": "code",
   "execution_count": null,
   "id": "45bbf1e1-82e4-4c61-a41d-a53f8b381b99",
   "metadata": {},
   "outputs": [],
   "source": [
    "tie = (apache_A.values == apache_B.values).mean()\n",
    "tie"
   ]
  },
  {
   "cell_type": "code",
   "execution_count": null,
   "id": "e2c31d17-6eb8-44b7-b20d-31326b362ab5",
   "metadata": {},
   "outputs": [],
   "source": [
    "t_A = pm.Exponential.dist(μ_A)\n",
    "t_A = pm.draw(t_A, 1000)\n",
    "t_A.mean()"
   ]
  },
  {
   "cell_type": "code",
   "execution_count": null,
   "id": "c011b08b-9caf-4a61-82cf-b3357df7fc8d",
   "metadata": {},
   "outputs": [],
   "source": [
    "t_B = pm.Exponential.dist(μ_B)\n",
    "t_B = pm.draw(t_B, 1000)\n",
    "t_B.mean()"
   ]
  },
  {
   "cell_type": "code",
   "execution_count": null,
   "id": "2d335013-0507-464e-8585-d76a87cdd946",
   "metadata": {},
   "outputs": [],
   "source": [
    "prob_win_ot = (t_B < t_A).mean()\n",
    "prob_win_ot"
   ]
  },
  {
   "cell_type": "code",
   "execution_count": null,
   "id": "8630c07a-5b87-4507-b9ff-1e10b8ec9f4b",
   "metadata": {},
   "outputs": [],
   "source": [
    "# Solution\n",
    "prob_win = win + tie * prob_win_ot\n",
    "prob_win"
   ]
  },
  {
   "cell_type": "code",
   "execution_count": null,
   "id": "34af9f4a-00f8-4996-8342-5110c9970441",
   "metadata": {},
   "outputs": [],
   "source": [
    "sample_wins = pm.Binomial.dist(5, prob_win)\n",
    "sample_wins = pm.draw(sample_wins, 1000)"
   ]
  },
  {
   "cell_type": "code",
   "execution_count": null,
   "id": "74544740-5180-4ec7-8aa1-af8cfd767702",
   "metadata": {},
   "outputs": [],
   "source": [
    "# Solution\n",
    "plot_hist(sample_wins, color='C4')\n",
    "plt.xlabel('Number of new patients')\n",
    "plt.ylabel('Probability')\n",
    "plt.title('Distribution of new patients');"
   ]
  },
  {
   "cell_type": "code",
   "execution_count": null,
   "id": "fc5a3c46-59a8-4246-a513-8b06799c6291",
   "metadata": {},
   "outputs": [],
   "source": [
    "# Solution\n",
    "\n",
    "(sample_wins >= 2).mean()"
   ]
  },
  {
   "cell_type": "code",
   "execution_count": null,
   "id": "db89f9de-f2a5-43f3-8eb0-cc1bcf095c11",
   "metadata": {},
   "outputs": [],
   "source": []
  }
 ],
 "metadata": {
  "kernelspec": {
   "display_name": "Python 3 (ipykernel)",
   "language": "python",
   "name": "python3"
  },
  "language_info": {
   "codemirror_mode": {
    "name": "ipython",
    "version": 3
   },
   "file_extension": ".py",
   "mimetype": "text/x-python",
   "name": "python",
   "nbconvert_exporter": "python",
   "pygments_lexer": "ipython3",
   "version": "3.10.8"
  }
 },
 "nbformat": 4,
 "nbformat_minor": 5
}
