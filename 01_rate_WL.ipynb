{
 "cells": [
  {
   "cell_type": "code",
   "execution_count": null,
   "id": "80ab0862-29d6-4f78-b2be-54011b3a7ba0",
   "metadata": {},
   "outputs": [],
   "source": [
    "import pymc as pm\n",
    "import pandas as pd\n",
    "import arviz as az\n",
    "\n",
    "import matplotlib.pyplot as plt"
   ]
  },
  {
   "cell_type": "code",
   "execution_count": null,
   "id": "c0569239-5024-4515-b2c3-80854403ba50",
   "metadata": {},
   "outputs": [],
   "source": [
    "df = pd.read_csv('Data/apache_sofa_treatment_63.csv', index_col=0)"
   ]
  },
  {
   "cell_type": "code",
   "execution_count": null,
   "id": "3bd57797-e2ca-4f4c-85c2-e6f9a09701e7",
   "metadata": {},
   "outputs": [],
   "source": [
    "df"
   ]
  },
  {
   "cell_type": "code",
   "execution_count": null,
   "id": "9a0befd4-05c3-4478-8332-9678ee8c1163",
   "metadata": {},
   "outputs": [],
   "source": [
    "sample_poisson = df['APACHE_II']\n",
    "observed_ndokrw = df[df['Rozpoznania']=='CHF_nieniedokrwienna']['APACHE_II']\n",
    "observed_dokrw = df[df['Rozpoznania']=='CHF_niedokrwienna']['APACHE_II']\n",
    "print(sample_poisson.mean().round(2))"
   ]
  },
  {
   "cell_type": "code",
   "execution_count": null,
   "id": "551d1a0d-0a4a-4450-9096-5fdb6bde0d49",
   "metadata": {},
   "outputs": [],
   "source": [
    "import seaborn as sns\n",
    "\n",
    "def plot_hist(sample, **options):\n",
    "    \"\"\"Plot a histogram of APACHE_II.\n",
    "    \n",
    "    sample: sequence of values\n",
    "    \"\"\"\n",
    "    sns.histplot(sample, stat='probability', discrete=True,\n",
    "                 alpha=0.5, **options)\n",
    "    \n",
    "def legend(**options):\n",
    "    \"\"\"Make a legend only if there are labels.\"\"\"\n",
    "    handles, labels = plt.gca().get_legend_handles_labels()\n",
    "    if len(labels):\n",
    "        plt.legend(**options)\n",
    "        \n",
    "def decorate_goals(ylabel='Probability'):\n",
    "    \"\"\"Decorate the axes.\"\"\"\n",
    "    plt.xlabel('APACHE II socre')\n",
    "    plt.ylabel(ylabel)\n",
    "    plt.title('Distribution of APACHE II')\n",
    "    legend()"
   ]
  },
  {
   "cell_type": "code",
   "execution_count": null,
   "id": "20837506-7469-48d2-84bd-3001ec844de6",
   "metadata": {},
   "outputs": [],
   "source": [
    "plot_hist(sample_poisson)\n",
    "decorate_goals()"
   ]
  },
  {
   "cell_type": "code",
   "execution_count": null,
   "id": "01d40d5c-1835-40e4-b300-1d63766d5470",
   "metadata": {},
   "outputs": [],
   "source": [
    "α = 30\n",
    "β = 1.8"
   ]
  },
  {
   "cell_type": "code",
   "execution_count": null,
   "id": "6bd78873-1630-4669-a292-7d7107dfa950",
   "metadata": {},
   "outputs": [],
   "source": [
    "sample_gamma = pm.Gamma.dist(α, β)"
   ]
  },
  {
   "cell_type": "code",
   "execution_count": null,
   "id": "49da0278-4efc-4f87-b2c5-f6ef48168917",
   "metadata": {},
   "outputs": [],
   "source": [
    "def plot_kde(sample, **options):\n",
    "    \"\"\"Plot a distribution using KDE.\n",
    "    \n",
    "    sample: sequence of values\n",
    "    \"\"\"\n",
    "    sns.kdeplot(sample, cut=0, **options)\n",
    "\n",
    "def decorate_rate(ylabel='Likelihood'):\n",
    "    \"\"\"Decorate the axes.\"\"\"\n",
    "    plt.xlabel('Apache per patient')\n",
    "    plt.ylabel(ylabel)\n",
    "    plt.title('Distribution of APACHE scoring rate')\n",
    "    legend()"
   ]
  },
  {
   "cell_type": "code",
   "execution_count": null,
   "id": "62162218-6579-4845-9c46-fb57c200fa19",
   "metadata": {},
   "outputs": [],
   "source": [
    "plot_kde(pm.draw(sample_gamma, 1000), label='gamma')\n",
    "decorate_rate()"
   ]
  },
  {
   "cell_type": "code",
   "execution_count": null,
   "id": "bb99eb46-55e1-42ea-b1de-717f59b9f3f2",
   "metadata": {},
   "outputs": [],
   "source": [
    "with pm.Model() as model1:\n",
    "    mu = pm.Gamma('mu', α, β)\n",
    "    idata = pm.sample_prior_predictive(1000)\n"
   ]
  },
  {
   "cell_type": "code",
   "execution_count": null,
   "id": "b0f9fc52-682f-45a5-8e7f-415d6092cc0e",
   "metadata": {},
   "outputs": [],
   "source": [
    "sample_prior = idata.prior['mu']\n",
    "sample_prior.mean()"
   ]
  },
  {
   "cell_type": "code",
   "execution_count": null,
   "id": "dc1789d7-bb94-468d-b72c-959e65165588",
   "metadata": {},
   "outputs": [],
   "source": [
    "len(sample_prior)"
   ]
  },
  {
   "cell_type": "code",
   "execution_count": null,
   "id": "c1965f21-33d9-4d3a-a257-7b8102a97347",
   "metadata": {
    "tags": []
   },
   "outputs": [],
   "source": [
    "plot_kde(sample_prior[0], color='gray', label='prior')\n",
    "decorate_rate('Density')"
   ]
  },
  {
   "cell_type": "code",
   "execution_count": null,
   "id": "ea58620a-9cda-40ca-91d2-13df92904a14",
   "metadata": {},
   "outputs": [],
   "source": [
    "with pm.Model() as model2:\n",
    "    μ = pm.Gamma('mu', α, β)\n",
    "    apache = pm.Poisson('APACHE', μ)\n",
    "    idata2 = pm.sample_prior_predictive(1000)"
   ]
  },
  {
   "cell_type": "code",
   "execution_count": null,
   "id": "b4dccc22-b1e3-4048-afba-2b6aab8484ee",
   "metadata": {},
   "outputs": [],
   "source": [
    "pm.model_to_graphviz(model2)"
   ]
  },
  {
   "cell_type": "code",
   "execution_count": null,
   "id": "00592bc3-7966-4440-b7c8-eabac938a51c",
   "metadata": {},
   "outputs": [],
   "source": [
    "idata2"
   ]
  },
  {
   "cell_type": "code",
   "execution_count": null,
   "id": "06adada3-7780-4742-8ec0-dc4108247b43",
   "metadata": {},
   "outputs": [],
   "source": [
    "sample_prior_pred = idata2.prior['APACHE']"
   ]
  },
  {
   "cell_type": "code",
   "execution_count": null,
   "id": "f910a5af-1548-4ba4-bf2e-42130d50c682",
   "metadata": {},
   "outputs": [],
   "source": [
    "plot_hist(sample_prior_pred[0], label='prior pred')\n",
    "decorate_goals()"
   ]
  },
  {
   "cell_type": "code",
   "execution_count": null,
   "id": "266a3ef2-40cb-4933-97a6-8f422fe11029",
   "metadata": {},
   "outputs": [],
   "source": [
    "sample_poisson.mean().round(2), sample_prior_pred.values.mean().round(2)"
   ]
  },
  {
   "cell_type": "code",
   "execution_count": null,
   "id": "e0b6cb9d-ac7d-4254-8efc-26b5eb9a877e",
   "metadata": {},
   "outputs": [],
   "source": [
    "sample_poisson.std().round(2), sample_prior_pred.values.std().round(2)"
   ]
  },
  {
   "cell_type": "code",
   "execution_count": null,
   "id": "512a9f5d-fef2-4d3b-94f1-815e5dfc7544",
   "metadata": {},
   "outputs": [],
   "source": [
    "with pm.Model() as model2:\n",
    "    μ = pm.Gamma('mu', α, β)\n",
    "    apache = pm.Poisson('APACHE', μ, observed=[10])\n",
    "    idata3 = pm.sample(1000)"
   ]
  },
  {
   "cell_type": "code",
   "execution_count": null,
   "id": "04ea33c0-50e7-4978-82ad-7d3f88f05d21",
   "metadata": {},
   "outputs": [],
   "source": [
    "len(idata3.posterior['mu'][0])"
   ]
  },
  {
   "cell_type": "code",
   "execution_count": null,
   "id": "8890016c-caad-401a-b769-a6e6da9f6aed",
   "metadata": {},
   "outputs": [],
   "source": [
    "sample_posterior = idata3.posterior['mu'][0]\n",
    "sample_posterior.values.mean().round(2)"
   ]
  },
  {
   "cell_type": "code",
   "execution_count": null,
   "id": "679a41eb-124f-40ff-8795-1cf845d5486d",
   "metadata": {},
   "outputs": [],
   "source": [
    "plot_kde(sample_prior[0], label='Prior', color='gray')\n",
    "plot_kde(sample_posterior.values, label='Posterior')\n",
    "decorate_rate()"
   ]
  },
  {
   "cell_type": "code",
   "execution_count": null,
   "id": "7c65129a-274a-4856-9cf3-70ab74e3094b",
   "metadata": {},
   "outputs": [],
   "source": [
    "sample_prior.values.mean().round(2), sample_posterior.values.mean().round(2)"
   ]
  },
  {
   "cell_type": "code",
   "execution_count": null,
   "id": "255149d9-acee-4827-a801-316796364ea4",
   "metadata": {},
   "outputs": [],
   "source": [
    "az.plot_posterior(sample_posterior)\n",
    "decorate_rate('Density')"
   ]
  },
  {
   "cell_type": "code",
   "execution_count": null,
   "id": "e4948141-67f7-447b-aed1-e251eab9ae84",
   "metadata": {},
   "outputs": [],
   "source": [
    "with pm.Model() as model4:\n",
    "    μ_A = pm.Gamma('mu_A', α, β)\n",
    "    μ_B = pm.Gamma('mu_B', α, β)\n",
    "    apache_A = pm.Poisson('apache_A', μ_A, observed=[17])\n",
    "    apache_B = pm.Poisson('apache_B', μ_B, observed=[10])"
   ]
  },
  {
   "cell_type": "code",
   "execution_count": null,
   "id": "f96aaeee-c6d9-4152-85df-ef7b49c77c30",
   "metadata": {},
   "outputs": [],
   "source": [
    "pm.model_to_graphviz(model4)"
   ]
  },
  {
   "cell_type": "code",
   "execution_count": null,
   "id": "bbd1ce99-bb03-40ad-b52a-40718aec4e13",
   "metadata": {},
   "outputs": [],
   "source": [
    "with model4:\n",
    "    idata4 = pm.sample(1000)"
   ]
  },
  {
   "cell_type": "code",
   "execution_count": null,
   "id": "1d43c14e-8ab5-4b18-a3ab-5356e521abdd",
   "metadata": {},
   "outputs": [],
   "source": [
    "with model4:\n",
    "    az.plot_trace(idata4)"
   ]
  },
  {
   "cell_type": "code",
   "execution_count": null,
   "id": "3461a0f8-3cbe-4981-aad0-66a040f78f28",
   "metadata": {},
   "outputs": [],
   "source": [
    "mu_A = idata4.posterior['mu_A']\n",
    "mu_B = idata4.posterior['mu_B']\n",
    "mu_A.values.mean(), mu_B.values.mean()"
   ]
  },
  {
   "cell_type": "code",
   "execution_count": null,
   "id": "5dc72d5f-2940-44d4-bb01-a7c970d496d8",
   "metadata": {},
   "outputs": [],
   "source": [
    "plot_kde(mu_A[0], label='mu_A posterior')\n",
    "plot_kde(mu_B[0], label='mu_B posterior')\n",
    "decorate_rate('Density')"
   ]
  },
  {
   "cell_type": "code",
   "execution_count": null,
   "id": "4dbf653a-06b4-4673-9918-9a5244e9ec21",
   "metadata": {},
   "outputs": [],
   "source": [
    "(mu_A.values > mu_B.values).mean()"
   ]
  },
  {
   "cell_type": "code",
   "execution_count": null,
   "id": "c4ab9f7d-12a0-477c-8e1d-c40d235da351",
   "metadata": {},
   "outputs": [],
   "source": [
    "observed_ndokrw.values"
   ]
  },
  {
   "cell_type": "code",
   "execution_count": null,
   "id": "217878d8-4a43-4af7-86c2-a4a143986d5e",
   "metadata": {},
   "outputs": [],
   "source": [
    "with pm.Model() as model5:\n",
    "    μ_A = pm.Gamma('mu_A', α, β)\n",
    "    μ_B = pm.Gamma('mu_B', α, β)\n",
    "    apache_A = pm.Poisson('ndokrw_A', μ_A, observed=observed_ndokrw)\n",
    "    apache_B = pm.Poisson('dokrw_B', μ_B, observed=observed_dokrw)"
   ]
  },
  {
   "cell_type": "code",
   "execution_count": null,
   "id": "730845e3-be5f-4e42-bb15-e59ac960331e",
   "metadata": {},
   "outputs": [],
   "source": [
    "pm.model_to_graphviz(model5)"
   ]
  },
  {
   "cell_type": "code",
   "execution_count": null,
   "id": "02f88681-b1c4-4017-8a6d-a2804b4f90c0",
   "metadata": {},
   "outputs": [],
   "source": [
    "with model5:\n",
    "    idata5 = pm.sample(1000)\n",
    "    az.plot_trace(idata5)"
   ]
  },
  {
   "cell_type": "code",
   "execution_count": null,
   "id": "7b812931-a917-4be0-a93e-ae9209570ac6",
   "metadata": {},
   "outputs": [],
   "source": [
    "mu_A = idata5.posterior['mu_A']\n",
    "mu_B = idata5.posterior['mu_B']\n",
    "mu_A.values.mean(), mu_B.values.mean()"
   ]
  },
  {
   "cell_type": "code",
   "execution_count": null,
   "id": "99a11a85-161d-4fc4-b1a7-436e77c78ca6",
   "metadata": {},
   "outputs": [],
   "source": [
    "plot_kde(mu_A[0], label='mu_A posterior')\n",
    "plot_kde(mu_B[0], label='mu_B posterior')\n",
    "decorate_rate('Density')"
   ]
  },
  {
   "cell_type": "markdown",
   "id": "b086cb25-b0d9-4e4b-893d-0a16ee641cdd",
   "metadata": {},
   "source": [
    "What is the probability that patient with ndorw have higher APACHE than patient with docrw?"
   ]
  },
  {
   "cell_type": "code",
   "execution_count": null,
   "id": "acda1ad9-013d-4e63-83e6-c12407efe23e",
   "metadata": {},
   "outputs": [],
   "source": [
    "(mu_A.values > mu_B.values).mean()"
   ]
  },
  {
   "cell_type": "code",
   "execution_count": null,
   "id": "5786ef25-d91b-4bc5-8ea1-27c6845f7d1f",
   "metadata": {},
   "outputs": [],
   "source": [
    "az.plot_posterior(idata5.posterior['mu_A'][0])\n",
    "az.plot_posterior(idata5.posterior['mu_B'][0])\n",
    "decorate_rate('Density')"
   ]
  },
  {
   "cell_type": "code",
   "execution_count": null,
   "id": "fa427480-095f-4e02-8fb5-6e80caecf25c",
   "metadata": {},
   "outputs": [],
   "source": []
  }
 ],
 "metadata": {
  "kernelspec": {
   "display_name": "Python 3 (ipykernel)",
   "language": "python",
   "name": "python3"
  },
  "language_info": {
   "codemirror_mode": {
    "name": "ipython",
    "version": 3
   },
   "file_extension": ".py",
   "mimetype": "text/x-python",
   "name": "python",
   "nbconvert_exporter": "python",
   "pygments_lexer": "ipython3",
   "version": "3.10.8"
  }
 },
 "nbformat": 4,
 "nbformat_minor": 5
}
