{
 "cells": [
  {
   "cell_type": "code",
   "execution_count": null,
   "id": "7346f688-cee8-4a26-8252-ee584da99b19",
   "metadata": {},
   "outputs": [],
   "source": [
    "import pymc as pm\n",
    "import pandas as pd\n",
    "import arviz as az\n",
    "\n",
    "import matplotlib.pyplot as plt\n",
    "import seaborn as sns\n",
    "\n",
    "import warnings\n",
    "warnings.filterwarnings(\"ignore\", category=FutureWarning)"
   ]
  },
  {
   "cell_type": "code",
   "execution_count": null,
   "id": "82911954-4b38-4bc5-b712-73fcabf20320",
   "metadata": {},
   "outputs": [],
   "source": [
    "import seaborn as sns\n",
    "\n",
    "def plot_hist(sample, **options):\n",
    "    \"\"\"Plot a histogram of goals.\n",
    "    \n",
    "    sample: sequence of values\n",
    "    \"\"\"\n",
    "    sns.histplot(sample, stat='probability', discrete=True,\n",
    "                 alpha=0.5, **options)\n",
    "\n",
    "def plot_kde(sample, **options):\n",
    "    \"\"\"Plot a distribution using KDE.\n",
    "    \n",
    "    sample: sequence of values\n",
    "    \"\"\"\n",
    "    sns.kdeplot(sample, cut=0, **options)\n",
    "    \n",
    "def legend(**options):\n",
    "    \"\"\"Make a legend only if there are labels.\"\"\"\n",
    "    handles, labels = plt.gca().get_legend_handles_labels()\n",
    "    if len(labels):\n",
    "        plt.legend(**options)\n",
    "\n",
    "def decorate_heads(ylabel='Probability'):\n",
    "    \"\"\"Decorate the axes.\"\"\"\n",
    "    plt.xlabel('Number of deaths (k)')\n",
    "    plt.ylabel(ylabel)\n",
    "    plt.title('Distribution of deaths')\n",
    "    legend()"
   ]
  },
  {
   "cell_type": "code",
   "execution_count": null,
   "id": "b4c9f20e-bc26-483c-bbb3-a47f09d09f7e",
   "metadata": {},
   "outputs": [],
   "source": [
    "df = pd.read_csv('Data/apache_sofa_treatment_63.csv', index_col=0)"
   ]
  },
  {
   "cell_type": "code",
   "execution_count": null,
   "id": "be91d702-be9e-4600-878f-69124cc4e3f1",
   "metadata": {},
   "outputs": [],
   "source": [
    "df.columns"
   ]
  },
  {
   "cell_type": "code",
   "execution_count": null,
   "id": "3f4536f0-c2c0-4d53-896e-d4e0348db1eb",
   "metadata": {},
   "outputs": [],
   "source": [
    "df['30-day'].hist()"
   ]
  },
  {
   "cell_type": "code",
   "execution_count": null,
   "id": "d254ffb3-d29f-4545-b08e-b0c56f1ada57",
   "metadata": {},
   "outputs": [],
   "source": [
    "n = df.shape[0]\n",
    "p = len(df[df['3-year']==1])/df.shape[0]\n",
    "p"
   ]
  },
  {
   "cell_type": "code",
   "execution_count": null,
   "id": "53a8f621-bee7-4dd4-ab2b-8080ef09abb7",
   "metadata": {},
   "outputs": [],
   "source": [
    "sample_binomial = pm.Binomial.dist(n, p)\n",
    "sample_binomial = pm.draw(sample_binomial, 1000)"
   ]
  },
  {
   "cell_type": "code",
   "execution_count": null,
   "id": "02a6d426-1259-430e-948f-b518c49e73aa",
   "metadata": {},
   "outputs": [],
   "source": [
    "plot_hist(sample_binomial, label='Binomial')\n",
    "decorate_heads()"
   ]
  },
  {
   "cell_type": "code",
   "execution_count": null,
   "id": "0a162c9d-08c4-4eda-b720-294455d31d52",
   "metadata": {},
   "outputs": [],
   "source": [
    "α = 2\n",
    "β = 2"
   ]
  },
  {
   "cell_type": "code",
   "execution_count": null,
   "id": "8f2be40d-e3bb-462d-b0e4-350081b4b8d0",
   "metadata": {},
   "outputs": [],
   "source": [
    "sample_beta = pm.Beta.dist(alpha=α, beta=β)\n",
    "sample_beta = pm.draw(sample_beta, 1000)\n",
    "sample_beta.mean()\n"
   ]
  },
  {
   "cell_type": "code",
   "execution_count": null,
   "id": "500c0d21-b415-4438-acd7-3f518adb244b",
   "metadata": {},
   "outputs": [],
   "source": [
    "def decorate_proportion(ylabel='Likelihood'):\n",
    "    \"\"\"Decorate the axes.\"\"\"\n",
    "    plt.xlabel('Proportion of heads (x)')\n",
    "    plt.ylabel(ylabel)\n",
    "    plt.title('Distribution of proportion')\n",
    "    legend()"
   ]
  },
  {
   "cell_type": "code",
   "execution_count": null,
   "id": "3f0bbe9d-4b70-4785-aa1f-805cdf6505b3",
   "metadata": {},
   "outputs": [],
   "source": [
    "plot_kde(sample_beta, label='beta')\n",
    "decorate_proportion()"
   ]
  },
  {
   "cell_type": "code",
   "execution_count": null,
   "id": "0e60de2b-7759-426c-a330-6d493352666f",
   "metadata": {},
   "outputs": [],
   "source": [
    "α = 2\n",
    "β = 2\n",
    "n = df.shape[0]"
   ]
  },
  {
   "cell_type": "code",
   "execution_count": null,
   "id": "6f965016-596b-45b1-b700-e7fac62eb5a1",
   "metadata": {},
   "outputs": [],
   "source": [
    "with pm.Model() as model1:\n",
    "    x = pm.Beta('x', alpha=α, beta=α)\n",
    "    k = pm.Binomial('k', n=n, p=x)\n",
    "    idata1 = pm.sample_prior_predictive(1000)"
   ]
  },
  {
   "cell_type": "code",
   "execution_count": null,
   "id": "6082e901-f715-4182-a2dd-24f984ff5a2d",
   "metadata": {},
   "outputs": [],
   "source": [
    "pm.model_to_graphviz(model1)"
   ]
  },
  {
   "cell_type": "code",
   "execution_count": null,
   "id": "30d1260a-10df-4870-a998-3f150cfb5e59",
   "metadata": {},
   "outputs": [],
   "source": [
    "sample_prior = idata1.prior['x']\n",
    "sample_prior.values.mean()"
   ]
  },
  {
   "cell_type": "code",
   "execution_count": null,
   "id": "5508e212-4646-4480-a271-fef37d31b007",
   "metadata": {},
   "outputs": [],
   "source": [
    "plot_kde(sample_prior[0])\n",
    "decorate_proportion()"
   ]
  },
  {
   "cell_type": "code",
   "execution_count": null,
   "id": "4e41364a-0009-41dc-bb16-806ee808fc30",
   "metadata": {},
   "outputs": [],
   "source": [
    "idata1"
   ]
  },
  {
   "cell_type": "code",
   "execution_count": null,
   "id": "617bd0b3-65f8-4321-87b2-5ea5aae7f59c",
   "metadata": {
    "tags": []
   },
   "outputs": [],
   "source": [
    "idata1.prior.k.values[0]"
   ]
  },
  {
   "cell_type": "code",
   "execution_count": null,
   "id": "0e1825aa-0f6e-4b99-9ff3-bd83720f462d",
   "metadata": {},
   "outputs": [],
   "source": [
    "sample_prior_pred = idata1.prior.k.values[0]\n",
    "sample_prior_pred.mean()"
   ]
  },
  {
   "cell_type": "code",
   "execution_count": null,
   "id": "491d2bb9-d321-406a-9cd8-e6a7903c1868",
   "metadata": {},
   "outputs": [],
   "source": [
    "plot_hist(sample_prior_pred, label='prior pred')\n",
    "decorate_heads()"
   ]
  },
  {
   "cell_type": "code",
   "execution_count": null,
   "id": "a2cbe8d7-f7ac-4f79-8919-216c1d442545",
   "metadata": {},
   "outputs": [],
   "source": [
    "k_obs = 50\n",
    "\n",
    "with pm.Model() as model2:\n",
    "    x = pm.Beta('x', alpha=2, beta=2)\n",
    "    k = pm.Binomial('k', n=n, p=x, observed=k_obs)\n",
    "    idata2 = pm.sample(500)"
   ]
  },
  {
   "cell_type": "code",
   "execution_count": null,
   "id": "0f4cdde1-3374-4fad-9944-1feac502a607",
   "metadata": {},
   "outputs": [],
   "source": [
    "len(idata2.posterior.x.values[0])"
   ]
  },
  {
   "cell_type": "code",
   "execution_count": null,
   "id": "5e584226-edcf-4aa8-9d71-946f2faea735",
   "metadata": {},
   "outputs": [],
   "source": [
    "with model2:\n",
    "    az.plot_trace(idata2)"
   ]
  },
  {
   "cell_type": "code",
   "execution_count": null,
   "id": "34257934-13f8-4ab4-87f4-09c824db9105",
   "metadata": {},
   "outputs": [],
   "source": [
    "with model2:\n",
    "    az.plot_posterior(idata2)"
   ]
  },
  {
   "cell_type": "code",
   "execution_count": null,
   "id": "41d51f76-691c-4cd7-b43e-45093921b0ac",
   "metadata": {},
   "outputs": [],
   "source": []
  }
 ],
 "metadata": {
  "kernelspec": {
   "display_name": "Python 3 (ipykernel)",
   "language": "python",
   "name": "python3"
  },
  "language_info": {
   "codemirror_mode": {
    "name": "ipython",
    "version": 3
   },
   "file_extension": ".py",
   "mimetype": "text/x-python",
   "name": "python",
   "nbconvert_exporter": "python",
   "pygments_lexer": "ipython3",
   "version": "3.10.8"
  }
 },
 "nbformat": 4,
 "nbformat_minor": 5
}
